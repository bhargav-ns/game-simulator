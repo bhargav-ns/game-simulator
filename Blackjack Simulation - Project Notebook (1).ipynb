{
 "cells": [
  {
   "cell_type": "markdown",
   "metadata": {},
   "source": [
    "# Blackjack Simulation"
   ]
  },
  {
   "cell_type": "markdown",
   "metadata": {},
   "source": [
    "In this notebook, we will attempt to perform Monte Carlo simulations of a player vs. dealer Blackjack contest. We assume that the casino follows the classic rules of Blackjack. We also explore the possibility of the 6 to 5 payoff instead of the tradional 3 to 2. This is known to result in a worse outcome for the player, but to what extent? All this and more in the blocks that follow!"
   ]
  },
  {
   "cell_type": "code",
   "execution_count": 357,
   "metadata": {},
   "outputs": [],
   "source": [
    "import numpy as np\n",
    "import random\n",
    "import matplotlib.pyplot as plt\n",
    "import seaborn as sns\n",
    "import scipy as sp"
   ]
  },
  {
   "cell_type": "markdown",
   "metadata": {},
   "source": [
    "A guide for decision-making in blackjack. This is based on the strategy table provided by : https://www.blackjackapprenticeship.com/how-to-play-blackjack/. "
   ]
  },
  {
   "cell_type": "code",
   "execution_count": 358,
   "metadata": {},
   "outputs": [],
   "source": [
    "def PlayerGuide(player_cardset, dealers_pick, surr_allowed=False):\n",
    "\n",
    "    num_aces = 0\n",
    "    hard = 0\n",
    "\n",
    "    for card in player_cardset:\n",
    "        if card == 1:\n",
    "            num_aces += 1\n",
    "\n",
    "    num_player_cards = len(player_cardset)\n",
    "\n",
    "    for val in player_cardset:\n",
    "        hard += val\n",
    "    # If the total hard count is greater than 11, it is best to not consider the ace as an '11' card\n",
    "\n",
    "    if hard <= 11:\n",
    "        # The value of the ace is 11 in this case\n",
    "        soft = hard + 11*num_aces - num_aces\n",
    "        # To handle the case of two aces\n",
    "        if soft > 21:\n",
    "            soft = (hard-1) + 11\n",
    "\n",
    "    elif hard > 11:\n",
    "        soft = hard\n",
    "    # Common conditions based only on the total hard and soft counts\n",
    "\n",
    "    if hard >= 17:\n",
    "        return 'Stand'\n",
    "\n",
    "    if num_player_cards == 2 and soft == 21:\n",
    "        return 'Blackjack'\n",
    "\n",
    "    if soft >= 19:\n",
    "        return 'Stand'\n",
    "\n",
    "    # When the player has chosen to stand or not yet drawn a card\n",
    "\n",
    "    if num_player_cards == 2:\n",
    "\n",
    "        if player_cardset[0] == player_cardset[1]:\n",
    "            card = player_cardset[0]\n",
    "\n",
    "            split_conditions = (card == 1) or (card == 8 and dealers_pick != 1) or (card in [2, 3, 7] and dealers_pick not in [1, 8, 9, 10]) or (\n",
    "                card == 9 and dealers_pick not in [1, 7, 10]) or (card == 6 and dealers_pick not in [1, 7, 8, 9, 10]) or (card == 4 and dealers_pick in [5, 6])\n",
    "            if split_conditions:\n",
    "                return 'Split'\n",
    "\n",
    "            if card == 9 and dealers_pick in [1, 7, 10]:\n",
    "                return 'Stand'\n",
    "\n",
    "        if hard == soft:\n",
    "\n",
    "            if(surr_allowed == False):\n",
    "                double_conditions = (hard == 11 and dealers_pick != 1) or (hard == 10 and dealers_pick not in [\n",
    "                    1, 10]) or (hard == 9 and dealers_pick not in ([1, 2, 7, 8, 9, 10]))\n",
    "                if double_conditions:\n",
    "                    return 'Double'\n",
    "\n",
    "                hit_conditions = (hard == 12 and dealers_pick in [1, 2, 3]) or (\n",
    "                    hard <= 11) or (dealers_pick in [1, 7, 8, 9, 10] and hard < 17)\n",
    "                if(hit_conditions):\n",
    "                    return 'Hit'\n",
    "\n",
    "            return 'Stand'\n",
    "\n",
    "        if hard != soft:\n",
    "\n",
    "            double_conditions2 = (soft == 17 and dealers_pick in [3, 4, 5, 6]) or (soft in [\n",
    "                15, 16] and dealers_pick in [4, 5, 6]) or (soft in [13, 14] and dealers_pick in [5, 6])\n",
    "\n",
    "            if double_conditions2:\n",
    "                return 'Double'\n",
    "\n",
    "            if soft == 18:\n",
    "\n",
    "                if dealers_pick not in ([1, 2, 7, 8, 9, 10]):\n",
    "                    return 'Double'\n",
    "\n",
    "                if dealers_pick in [2, 7, 8]:\n",
    "                    return 'Stand'\n",
    "\n",
    "            return 'Hit'\n",
    "\n",
    "    # After a player has asked for a card\n",
    "\n",
    "    if num_player_cards > 2:\n",
    "\n",
    "        if soft <= 17 or (soft == 18 and dealers_pick in [1, 9, 10]):\n",
    "            return 'Stand'\n",
    "\n",
    "        if hard == soft:\n",
    "            if hard <= 11 or (hard == 12 and dealers_pick <= 3) or (dealers_pick in [1, 7, 8, 9, 10]):\n",
    "                return 'Hit'\n",
    "            return 'Stand'"
   ]
  },
  {
   "cell_type": "markdown",
   "metadata": {},
   "source": [
    "Simulating a single blackjack round. \n",
    "Code references: \n",
    "\n",
    "https://towardsdatascience.com/python-blackjack-simulator-61b591ffb971\n",
    "\n",
    "https://github.com/molron94/Blackjack-Sim\n",
    "\n",
    "Note: These are references only. The setting and the idea of what a single round should constitute is inspired from the links above. The rules and payouts remain the same for each round."
   ]
  },
  {
   "cell_type": "code",
   "execution_count": 378,
   "metadata": {},
   "outputs": [],
   "source": [
    "def blackjack_round(bet_amount=10, player_cardset='no_initial_condition', dealer_stay_num = 17, single_dealer_card='no_initial_condition', payback_type = \"3to2\", deck = [1,2,3,4,5,6,7,8,9,10,10,10,10]*24):\n",
    "    \n",
    "    def end_round():\n",
    "        card_list=[1,2,3,4,5,6,7,8,9,10,10,10,10]*4\n",
    "        num_decks = 6\n",
    "        deck = card_list*num_decks\n",
    "        return deck\n",
    "    \n",
    "    if (deck == [1,2,3,4,5,6,7,8,9,10,10,10,10]*24):\n",
    "        card_list=[1,2,3,4,5,6,7,8,9,10,10,10,10]*4\n",
    "        num_decks = 6\n",
    "        deck = card_list*num_decks\n",
    "    \n",
    "    stand = False\n",
    "    \n",
    "  \n",
    "    if player_cardset == 'no_initial_condition':\n",
    "        ch1 = np.random.choice(deck, replace=False)\n",
    "        deck.remove(ch1)\n",
    "        ch2 = np.random.choice(deck, replace=False)\n",
    "        deck.remove(ch2)\n",
    "        player_cardset=[ch1, ch2]\n",
    "        \n",
    "        \n",
    "    if single_dealer_card == 'no_initial_condition':\n",
    "        dealer_cardset = []\n",
    "        ch = np.random.choice(deck, replace=False)\n",
    "        single_dealer_card = ch\n",
    "        deck.remove(ch)\n",
    "        \n",
    "        dealer_cardset.append(single_dealer_card)\n",
    "        \n",
    "        \n",
    "    while len(player_cardset) < 2:\n",
    "        \n",
    "        ch = np.random.choice(deck, replace=False)\n",
    "        player_cardset.append(ch)\n",
    "        deck.remove(ch)\n",
    "\n",
    "    \n",
    "    # Check if a blackjack has been scored\n",
    "    if PlayerGuide(player_cardset, single_dealer_card) == 'Blackjack':\n",
    "            \n",
    "            # Has the casino also scored a blackjack?\n",
    "            dealer_cardset.append(np.random.choice(deck, replace=False))\n",
    "            if 1 in (dealer_cardset):\n",
    "                if sum(dealer_cardset)==11:\n",
    "                    deck = end_round()\n",
    "                    return 0\n",
    "            else :\n",
    "                if(payback_type == \"3to2\"):\n",
    "                    deck = end_round()\n",
    "                    return bet_amount*1.5\n",
    "\n",
    "                elif(payback_type == \"6to5\"):\n",
    "                    deck = end_round()\n",
    "                    return bet_amount*6/5\n",
    "                \n",
    "    if PlayerGuide(player_cardset, single_dealer_card) == 'Stand':\n",
    "            stand = True\n",
    "    \n",
    "        \n",
    "    if stand == False:\n",
    "        \n",
    "        \n",
    "        if PlayerGuide(player_cardset, single_dealer_card) == 'Hit':\n",
    "            ch = np.random.choice(deck, replace=False)\n",
    "            player_cardset.append(ch)\n",
    "            deck.remove(ch)\n",
    "            \n",
    "            if sum(player_cardset)>21:\n",
    "                deck = end_round()\n",
    "                return 0 - bet_amount\n",
    "\n",
    "           \n",
    "        if PlayerGuide(player_cardset, single_dealer_card)== 'Split':\n",
    "            \n",
    "            new_turn = blackjack_round(bet_amount, [player_cardset[0]], single_dealer_card, deck = deck) \n",
    "            new_turn += blackjack_round(bet_amount, [player_cardset[1]], single_dealer_card, deck = deck)\n",
    "\n",
    "            return new_turn\n",
    "        \n",
    "        if PlayerGuide(player_cardset, single_dealer_card)=='Double':\n",
    "            \n",
    "            ch = np.random.choice(deck, replace=False)\n",
    "            player_cardset.append(ch)\n",
    "            deck.remove(ch)\n",
    "            bet_amount= bet_amount * 2\n",
    "            if sum(player_cardset)>21:\n",
    "                deck = end_round()\n",
    "                return 0- bet_amount\n",
    "\n",
    "            \n",
    "    while True:\n",
    "        \n",
    "        ch = np.random.choice(deck, replace=False)\n",
    "        dealer_cardset.append(ch)\n",
    "        deck.remove(ch)\n",
    "        \n",
    "        # Compute the dealer's score and the player's score - represented by d_score and p_score\n",
    "        d_score= sum(dealer_cardset)\n",
    "        p_score=sum(player_cardset)\n",
    "        if p_score<=11 and 1 in player_cardset:\n",
    "            p_score+=10\n",
    "\n",
    "        dealer_soft_score= d_score\n",
    "        if d_score<=11 and 1 in dealer_cardset:\n",
    "            dealer_soft_score+=10\n",
    "\n",
    "        # Dealer scores a blackjack!\n",
    "        if len(dealer_cardset)==2 and dealer_soft_score==21:\n",
    "            return 0-bet_amount\n",
    "\n",
    "        # Conditions to win or lose money\n",
    "        # We'll assume that this is a traditional casino where the dealer cannot hit when on a soft 17. This can be changed in the function parameters.\n",
    "        if dealer_soft_score>=dealer_stay_num:\n",
    "\n",
    "            if dealer_soft_score>21:\n",
    "                return bet_amount\n",
    "\n",
    "            if p_score==dealer_soft_score:\n",
    "                return 0\n",
    "            \n",
    "            if p_score>dealer_soft_score:\n",
    "                return bet_amount\n",
    "            \n",
    "            if p_score<dealer_soft_score:\n",
    "                return 0 - bet_amount\n",
    "            \n",
    "                \n",
    "\n",
    " "
   ]
  },
  {
   "cell_type": "code",
   "execution_count": 379,
   "metadata": {},
   "outputs": [],
   "source": [
    "import pandas as pd\n",
    "\n",
    "def compute_stats(sim):\n",
    "    \n",
    "    condition = sim[0]\n",
    "    num_runs = sim[2]\n",
    "    k = sim[1]\n",
    "    bet = sim[3]\n",
    "    \n",
    "    \n",
    "    ax = sns.kdeplot(k)\n",
    "    ax.set(xlabel='Distribution of Wins and Losses', ylabel='Frequency')\n",
    "    \n",
    "    \n",
    "    zero_count = 0\n",
    "    positive_count = 0\n",
    "    blackjacks = 0\n",
    "    negative_count = 0\n",
    "\n",
    "    for ele in k:\n",
    "        if ele == 0:\n",
    "            zero_count += 1\n",
    "        elif ele > 0:\n",
    "            positive_count += 1\n",
    "        elif ele < 0:\n",
    "            negative_count += 1\n",
    "\n",
    "        if ele > bet and ele < bet*2:\n",
    "            blackjacks += 1\n",
    "\n",
    "    results = {'Number of Zero Transactions' : [zero_count], \n",
    "               \"Number of Positive Results (Including Blackjacks)\" : [positive_count],\n",
    "               \"Number of Negative Results\" : [negative_count],\n",
    "               \"Number of Blackjacks\" : [blackjacks]\n",
    "              }\n",
    "    \n",
    "    print(\"Mean of winnings for each round = {}\".format(np.mean(k)))\n",
    "    print(\"Variance of winnings = {}\".format(np.std(k)**2))\n",
    "    print (\"Total bet: \" + str(bet * num_runs))\n",
    "    print (\"Net amount gained or lost by the player: \" + str(np.mean(k)*num_runs))\n",
    "    \n",
    "    print(\"Loss or Gain percentage: \" + str((np.mean(k)*num_runs)*100/(bet * num_runs)) + \"%\")\n",
    "    \n",
    "    print()\n",
    "    print(\"95% Confidence interval:\")\n",
    "    \n",
    "    conf_int = (np.mean(k) - 1.96*(np.sqrt(np.std(k)/num_runs)), np.mean(k) + 1.96*(np.sqrt(np.std(k)/num_runs)))\n",
    "    print(conf_int)\n",
    "    \n",
    "    display(pd.DataFrame.from_dict(results))\n",
    "    \n",
    "    \n",
    "def blackjack_sim(init_hand='no_initial_condition', dealer_stay_num = 17, init_dealer='no_initial_condition', bet=10, payback_type = \"6to5\", num_runs=100000):\n",
    "    sim_out=[]\n",
    "    \n",
    "    for i in range(num_runs):\n",
    "        sim_out.append(blackjack_round(bet_amount=bet, dealer_stay_num = dealer_stay_num, player_cardset=init_hand, single_dealer_card=init_dealer, payback_type = payback_type))\n",
    "    return (init_hand, np.array(sim_out), num_runs, bet)"
   ]
  },
  {
   "cell_type": "markdown",
   "metadata": {},
   "source": [
    "Running 100,000 rounds and examining the statistics:"
   ]
  },
  {
   "cell_type": "code",
   "execution_count": 380,
   "metadata": {},
   "outputs": [
    {
     "name": "stdout",
     "output_type": "stream",
     "text": [
      "Mean of winnings for each round = -0.257\n",
      "Variance of winnings = 526.183951\n",
      "Total bet: 200000\n",
      "Net amount gained or lost by the player: -2570.0\n",
      "Loss or Gain percentage: -1.285%\n",
      "\n",
      "95% Confidence interval:\n",
      "(-0.3508729510347921, -0.16312704896520794)\n"
     ]
    },
    {
     "data": {
      "text/html": [
       "<div>\n",
       "<style scoped>\n",
       "    .dataframe tbody tr th:only-of-type {\n",
       "        vertical-align: middle;\n",
       "    }\n",
       "\n",
       "    .dataframe tbody tr th {\n",
       "        vertical-align: top;\n",
       "    }\n",
       "\n",
       "    .dataframe thead th {\n",
       "        text-align: right;\n",
       "    }\n",
       "</style>\n",
       "<table border=\"1\" class=\"dataframe\">\n",
       "  <thead>\n",
       "    <tr style=\"text-align: right;\">\n",
       "      <th></th>\n",
       "      <th>Number of Zero Transactions</th>\n",
       "      <th>Number of Positive Results (Including Blackjacks)</th>\n",
       "      <th>Number of Negative Results</th>\n",
       "      <th>Number of Blackjacks</th>\n",
       "    </tr>\n",
       "  </thead>\n",
       "  <tbody>\n",
       "    <tr>\n",
       "      <th>0</th>\n",
       "      <td>780</td>\n",
       "      <td>4351</td>\n",
       "      <td>4869</td>\n",
       "      <td>411</td>\n",
       "    </tr>\n",
       "  </tbody>\n",
       "</table>\n",
       "</div>"
      ],
      "text/plain": [
       "   Number of Zero Transactions  \\\n",
       "0                          780   \n",
       "\n",
       "   Number of Positive Results (Including Blackjacks)  \\\n",
       "0                                               4351   \n",
       "\n",
       "   Number of Negative Results  Number of Blackjacks  \n",
       "0                        4869                   411  "
      ]
     },
     "metadata": {},
     "output_type": "display_data"
    },
    {
     "data": {
      "image/png": "[encoded data removed]",
      "text/plain": [
       "<Figure size 432x288 with 1 Axes>"
      ]
     },
     "metadata": {
      "needs_background": "light"
     },
     "output_type": "display_data"
    }
   ],
   "source": [
    "sim = blackjack_sim(num_runs=10000, bet=20, payback_type = \"3to2\")\n",
    "compute_stats(sim)"
   ]
  },
  {
   "cell_type": "markdown",
   "metadata": {},
   "source": [
    "How much worse does a 6 to 5 payoff make it for the player?"
   ]
  },
  {
   "cell_type": "code",
   "execution_count": 362,
   "metadata": {},
   "outputs": [
    {
     "name": "stdout",
     "output_type": "stream",
     "text": [
      "Mean of winnings for each round = -0.55716\n",
      "Variance of winnings = 504.84613273439993\n",
      "Total bet: 2000000\n",
      "Net amount gained or lost by the player: -55716.0\n",
      "Loss or Gain percentage: -2.7858%\n",
      "\n",
      "95% Confidence interval:\n",
      "(-0.5865395966974034, -0.5277804033025966)\n"
     ]
    },
    {
     "data": {
      "text/html": [
       "<div>\n",
       "<style scoped>\n",
       "    .dataframe tbody tr th:only-of-type {\n",
       "        vertical-align: middle;\n",
       "    }\n",
       "\n",
       "    .dataframe tbody tr th {\n",
       "        vertical-align: top;\n",
       "    }\n",
       "\n",
       "    .dataframe thead th {\n",
       "        text-align: right;\n",
       "    }\n",
       "</style>\n",
       "<table border=\"1\" class=\"dataframe\">\n",
       "  <thead>\n",
       "    <tr style=\"text-align: right;\">\n",
       "      <th></th>\n",
       "      <th>Number of Zero Transactions</th>\n",
       "      <th>Number of Positive Results (Including Blackjacks)</th>\n",
       "      <th>Number of Negative Results</th>\n",
       "      <th>Number of Blackjacks</th>\n",
       "    </tr>\n",
       "  </thead>\n",
       "  <tbody>\n",
       "    <tr>\n",
       "      <th>0</th>\n",
       "      <td>8267</td>\n",
       "      <td>42879</td>\n",
       "      <td>48854</td>\n",
       "      <td>4032</td>\n",
       "    </tr>\n",
       "  </tbody>\n",
       "</table>\n",
       "</div>"
      ],
      "text/plain": [
       "   Number of Zero Transactions  \\\n",
       "0                         8267   \n",
       "\n",
       "   Number of Positive Results (Including Blackjacks)  \\\n",
       "0                                              42879   \n",
       "\n",
       "   Number of Negative Results  Number of Blackjacks  \n",
       "0                       48854                  4032  "
      ]
     },
     "metadata": {},
     "output_type": "display_data"
    },
    {
     "data": {
      "image/png": "[encoded data removed]",
      "text/plain": [
       "<Figure size 432x288 with 1 Axes>"
      ]
     },
     "metadata": {
      "needs_background": "light"
     },
     "output_type": "display_data"
    }
   ],
   "source": [
    "sim2 = blackjack_sim(num_runs=100000, bet=20, payback_type = \"6to5\")\n",
    "compute_stats(sim2)"
   ]
  },
  {
   "cell_type": "markdown",
   "metadata": {},
   "source": [
    "The block below shows how crucial it is for the dealer to stay at 17. Staying at 19 instead of 17 causes the player to start beating the casino quite convincingly as shown below:"
   ]
  },
  {
   "cell_type": "code",
   "execution_count": 363,
   "metadata": {},
   "outputs": [
    {
     "name": "stdout",
     "output_type": "stream",
     "text": [
      "Mean of winnings for each round = 2.1528\n",
      "Variance of winnings = 516.2246521599999\n",
      "Total bet: 200000\n",
      "Net amount gained or lost by the player: 21528.0\n",
      "Loss or Gain percentage: 10.764%\n",
      "\n",
      "95% Confidence interval:\n",
      "(2.059374429951673, 2.246225570048327)\n"
     ]
    },
    {
     "data": {
      "text/html": [
       "<div>\n",
       "<style scoped>\n",
       "    .dataframe tbody tr th:only-of-type {\n",
       "        vertical-align: middle;\n",
       "    }\n",
       "\n",
       "    .dataframe tbody tr th {\n",
       "        vertical-align: top;\n",
       "    }\n",
       "\n",
       "    .dataframe thead th {\n",
       "        text-align: right;\n",
       "    }\n",
       "</style>\n",
       "<table border=\"1\" class=\"dataframe\">\n",
       "  <thead>\n",
       "    <tr style=\"text-align: right;\">\n",
       "      <th></th>\n",
       "      <th>Number of Zero Transactions</th>\n",
       "      <th>Number of Positive Results (Including Blackjacks)</th>\n",
       "      <th>Number of Negative Results</th>\n",
       "      <th>Number of Blackjacks</th>\n",
       "    </tr>\n",
       "  </thead>\n",
       "  <tbody>\n",
       "    <tr>\n",
       "      <th>0</th>\n",
       "      <td>610</td>\n",
       "      <td>5001</td>\n",
       "      <td>4389</td>\n",
       "      <td>420</td>\n",
       "    </tr>\n",
       "  </tbody>\n",
       "</table>\n",
       "</div>"
      ],
      "text/plain": [
       "   Number of Zero Transactions  \\\n",
       "0                          610   \n",
       "\n",
       "   Number of Positive Results (Including Blackjacks)  \\\n",
       "0                                               5001   \n",
       "\n",
       "   Number of Negative Results  Number of Blackjacks  \n",
       "0                        4389                   420  "
      ]
     },
     "metadata": {},
     "output_type": "display_data"
    },
    {
     "data": {
      "image/png": "[encoded data removed]",
      "text/plain": [
       "<Figure size 432x288 with 1 Axes>"
      ]
     },
     "metadata": {
      "needs_background": "light"
     },
     "output_type": "display_data"
    }
   ],
   "source": [
    "sim3 = blackjack_sim(num_runs=10000, bet=20, payback_type = \"6to5\", dealer_stay_num = 19)\n",
    "compute_stats(sim3)"
   ]
  },
  {
   "cell_type": "markdown",
   "metadata": {},
   "source": [
    "Here, the player makes a tidy profit of about 10.76%. The kernel density plot also shows how the positive peak is slightly higher then the negative peak. With the added advantage of a blackjack payoff, the player can eventually beat the casino and make money."
   ]
  },
  {
   "cell_type": "code",
   "execution_count": null,
   "metadata": {},
   "outputs": [],
   "source": []
  }
 ],
 "metadata": {
  "kernelspec": {
   "display_name": "Python 3",
   "language": "python",
   "name": "python3"
  },
  "language_info": {
   "codemirror_mode": {
    "name": "ipython",
    "version": 3
   },
   "file_extension": ".py",
   "mimetype": "text/x-python",
   "name": "python",
   "nbconvert_exporter": "python",
   "pygments_lexer": "ipython3",
   "version": "3.7.9"
  }
 },
 "nbformat": 4,
 "nbformat_minor": 2
}
